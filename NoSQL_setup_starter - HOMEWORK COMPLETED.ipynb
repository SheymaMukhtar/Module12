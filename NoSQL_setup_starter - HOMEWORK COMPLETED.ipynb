{
 "cells": [
  {
   "cell_type": "code",
   "execution_count": null,
   "id": "cb8f58a4-fa2f-4bfd-a566-e29b3641f16d",
   "metadata": {},
   "outputs": [],
   "source": [
    "from pymongo import MongoClient\n",
    "from pprint import pprint\n",
    "client = MongoClient()"
   ]
  },
  {
   "cell_type": "code",
   "execution_count": null,
   "id": "176d49cc-4169-4d36-bd38-1ce3a719fa0d",
   "metadata": {},
   "outputs": [],
   "source": [
    "\n",
    "db = client.uk_food\n",
    "collection = db.establishments\n",
    "\n",
    "db_list = client.list_database_names()\n",
    "print(db_list)\n",
    "\n",
    "collection_list = db.list_collection_names()\n",
    "print(collection_list)\n",
    "\n",
    "document = collection.find_one()\n",
    "pprint(document)"
   ]
  },
  {
   "cell_type": "code",
   "execution_count": null,
   "id": "ef2a70fd-37bd-4e44-b366-b9041f3e19db",
   "metadata": {},
   "outputs": [],
   "source": [
    "new_restaurant = {\n",
    "    \"BusinessName\": \"Penang Flavours\",\n",
    "    \"BusinessType\": \"Restaurant/Cafe/Canteen\",\n",
    "    \"BusinessTypeID\": \"\",\n",
    "    \"AddressLine1\": \"Penang Flavours\",\n",
    "    \"AddressLine2\": \"146A Plumstead Rd\",\n",
    "    \"AddressLine3\": \"London\",\n",
    "    \"AddressLine4\": \"\",\n",
    "    \"PostCode\": \"SE18 7DY\",\n",
    "    \"Phone\": \"\",\n",
    "    \"LocalAuthorityCode\": \"511\",\n",
    "    \"LocalAuthorityName\": \"Greenwich\",\n",
    "    \"LocalAuthorityWebSite\": \"http://www.royalgreenwich.gov.uk\",\n",
    "    \"LocalAuthorityEmailAddress\": \"health@royalgreenwich.gov.uk\",\n",
    "    \"scores\": {\n",
    "        \"Hygiene\": \"\",\n",
    "        \"Structural\": \"\",\n",
    "        \"ConfidenceInManagement\": \"\"\n",
    "    },\n",
    "    \"SchemeType\": \"FHRS\",\n",
    "    \"geocode\": {\n",
    "        \"longitude\": \"0.08384000\",\n",
    "        \"latitude\": \"51.49014200\"\n",
    "    },\n",
    "    \"RightToReply\": \"\",\n",
    "    \"Distance\": 4623.9723280747176,\n",
    "    \"NewRatingPending\": True\n",
    "}\n",
    " \n",
    "# Insert the new restaurant into the database\n",
    "result = db.establishments.insert_one(new_restaurant)\n",
    "print(f\"New restaurant inserted with ID: {result.inserted_id}\")"
   ]
  },
  {
   "cell_type": "code",
   "execution_count": null,
   "id": "6ff6ab9e-6d9e-4b71-be54-54580b0000fb",
   "metadata": {},
   "outputs": [],
   "source": [
    "from pymongo import MongoClient\n",
    "client = MongoClient('mongodb://localhost:27017/')\n",
    "db = client['uk_food']\n",
    "\n",
    "\n",
    "restaurant_type = db.establishments.find_one({\"BusinessType\": \"Restaurant/Cafe/Canteen\"}, {\"BusinessTypeID\": 1, \"BusinessType\": 1})\n",
    "\n",
    "\n",
    "db.establishments.update_one({\"BusinessType\": \"Restaurant/Cafe/Canteen\"}, {\"$set\": {\"BusinessTypeID\": restaurant_type[\"BusinessTypeID\"]}})\n",
    "\n",
    "\n",
    "num_dover = db.establishments.count_documents({\"Address3\": \"Dover\"})\n",
    "\n",
    "\n",
    "db.establishments.delete_many({\"Address3\": \"Dover\"})\n",
    "\n",
    "\n",
    "num_after_deletion = db.establishments.count_documents({})\n",
    "\n",
    "\n",
    "db.establishments.update_many({}, {\"$set\": {\"Latitude\": {\"$toDouble\": \"$Latitude\"}, \"Longitude\": {\"$toDouble\": \"$Longitude\"}}})\n",
    "\n",
    "\n",
    "db.establishments.update_many({}, {\"$set\": {\"RatingValue\": {\"$toInt\": \"$RatingValue\"}}})"
   ]
  },
  {
   "cell_type": "code",
   "execution_count": null,
   "id": "112b39d6-6247-4ecc-9583-f350b1e7b119",
   "metadata": {},
   "outputs": [],
   "source": []
  }
 ],
 "metadata": {
  "kernelspec": {
   "display_name": "Python 3 (ipykernel)",
   "language": "python",
   "name": "python3"
  },
  "language_info": {
   "codemirror_mode": {
    "name": "ipython",
    "version": 3
   },
   "file_extension": ".py",
   "mimetype": "text/x-python",
   "name": "python",
   "nbconvert_exporter": "python",
   "pygments_lexer": "ipython3",
   "version": "3.11.5"
  }
 },
 "nbformat": 4,
 "nbformat_minor": 5
}
